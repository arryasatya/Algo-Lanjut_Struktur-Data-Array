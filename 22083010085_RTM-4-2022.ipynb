{
 "cells": [
  {
   "cell_type": "markdown",
   "id": "9ede1ddd",
   "metadata": {},
   "source": [
    "#### Array dimensi 1 - Menentukan nilai max & min"
   ]
  },
  {
   "cell_type": "code",
   "execution_count": 2,
   "id": "0712a4ed",
   "metadata": {},
   "outputs": [
    {
     "name": "stdout",
     "output_type": "stream",
     "text": [
      "[-5, -4, 3, 7, 8, 6, -2, 1, 9, -11, -10]\n",
      "Nilai minimum : -11\n",
      "Nilai maksimum : 9\n"
     ]
    }
   ],
   "source": [
    "x = [-5,-4,3,7,8,6,-2,1,9,-11,-10] #list\n",
    "\n",
    "#minimum\n",
    "min = x[0]\n",
    "for i in range(1, len(x)):\n",
    "    y = x[i]\n",
    "    if y <= min:\n",
    "        min = y\n",
    "#maksimum\n",
    "max = x[0]\n",
    "for i in range(1, len(x)):\n",
    "    y = x[i]\n",
    "    if y >= max:\n",
    "        max = y\n",
    "        \n",
    "#eksekusi kode\n",
    "print(x)\n",
    "print('Nilai minimum :', min)\n",
    "print('Nilai maksimum :', max)"
   ]
  },
  {
   "cell_type": "markdown",
   "id": "92183af8",
   "metadata": {},
   "source": [
    "#### Array dimensi 1 - Mengurutkan nilai ascending & descending"
   ]
  },
  {
   "cell_type": "code",
   "execution_count": 19,
   "id": "e35735aa",
   "metadata": {},
   "outputs": [
    {
     "name": "stdout",
     "output_type": "stream",
     "text": [
      "Unsorted list : [-5, -4, 3, 7, 8, 6, -2, 1, 9, -11, -10]\n",
      "Ascending sort : [-11, -10, -5, -4, -2, 1, 3, 6, 7, 8, 9]\n",
      "Descending sort : [9, 8, 7, 6, 3, 1, -2, -4, -5, -10, -11]\n"
     ]
    }
   ],
   "source": [
    "unsorted = [-5,-4,3,7,8,6,-2,1,9,-11,-10]\n",
    "\n",
    "#ascending\n",
    "x = [-5,-4,3,7,8,6,-2,1,9,-11,-10]\n",
    "i=0\n",
    "for i in range(i, len(x)):\n",
    "    for j in range(i+1, len(x)):\n",
    "        if (x[i] > x[j]):\n",
    "            temp = x[i]\n",
    "            x[i] = x[j]\n",
    "            x[j] = temp\n",
    "\n",
    "#descending\n",
    "y = [-5,-4,3,7,8,6,-2,1,9,-11,-10]\n",
    "i=0 \n",
    "for i in range(i, len(x)):\n",
    "    for j in range(i+1, len(x)):\n",
    "        if (y[i] < y[j]):\n",
    "            temp = y[i]\n",
    "            y[i] = y[j]\n",
    "            y[j] = temp\n",
    "            \n",
    "#eksekusi            \n",
    "print('Unsorted list :', unsorted)\n",
    "print('Ascending sort :', x)\n",
    "print('Descending sort :', y)"
   ]
  },
  {
   "cell_type": "markdown",
   "id": "27bab8fe",
   "metadata": {},
   "source": [
    "#### Array dimensi 2 - Menghitung ipk"
   ]
  },
  {
   "cell_type": "code",
   "execution_count": 1,
   "id": "9e0c8548",
   "metadata": {},
   "outputs": [
    {
     "name": "stdout",
     "output_type": "stream",
     "text": [
      "Masukkan jumlah mata kuliah : 5\n",
      "Masukkan mata kuliah 1 : A\n",
      "Jumlah jam : 2\n",
      "Masukkan mata kuliah 2 : BC\n",
      "Jumlah jam : 2\n",
      "Masukkan mata kuliah 3 : B\n",
      "Jumlah jam : 3\n",
      "Masukkan mata kuliah 4 : AB\n",
      "Jumlah jam : 3\n",
      "Masukkan mata kuliah 5 : C\n",
      "Jumlah jam : 3\n",
      "Indeks Prestasi Semeseter : 2.96\n"
     ]
    }
   ],
   "source": [
    "n = int(input(\"Masukkan jumlah mata kuliah : \"))#input jumlah matkul\n",
    "arr = []#list grading\n",
    "for i in range(n):#loop sebanyak matkul\n",
    "    arr2 = []#list matkul, jam\n",
    "    arr2.append(input(\"Masukkan mata kuliah %d : \"%(i+1)))#input grade ke list\n",
    "    arr2.append(int(input(\"Jumlah jam : \")))#input jam ke list\n",
    "    arr.append(arr2)\n",
    "    \n",
    "ipk = 0#inisasi ipk & totaljam\n",
    "totalJam = 0\n",
    "\n",
    "for x in range(n):\n",
    "    for i in range(n):#loop sebanyak matkul\n",
    "        if arr[x][0] == \"A\":#kalau arr[i] sama dengan \"A\" maka\n",
    "            ipk = ipk + (4*arr[x][1])#tambah ipk dengan arr[i]*4\n",
    "        elif arr[x][0] == \"BC\":\n",
    "            ipk = ipk + (2.5*arr[x][1])\n",
    "        elif arr[x][0] == \"B\":\n",
    "            ipk = ipk + (3*arr[x][1])\n",
    "        elif arr[x][0] == \"AB\":\n",
    "            ipk = ipk + (3.5*arr[x][1])\n",
    "        elif arr[x][0] == \"C\":\n",
    "            ipk = ipk + (2*arr[x][1])\n",
    "        \n",
    "        totalJam = totalJam + arr[x][1] #totalin jam\n",
    "\n",
    "ipk = ipk / totalJam #ipk dibagi jam biar dapet rata-rata\n",
    "print(\"Indeks Prestasi Semeseter : %.2f\"%ipk)#cetak ipk"
   ]
  },
  {
   "cell_type": "markdown",
   "id": "6688452f",
   "metadata": {},
   "source": [
    "#### Array dimensi 2 - Membentuk karakter B"
   ]
  },
  {
   "cell_type": "code",
   "execution_count": 2,
   "id": "3d715a78",
   "metadata": {},
   "outputs": [
    {
     "name": "stdout",
     "output_type": "stream",
     "text": [
      " ****** \n",
      " *    * \n",
      " *    * \n",
      " *******\n",
      " **    *\n",
      " **    *\n",
      " *******\n",
      "        \n"
     ]
    }
   ],
   "source": [
    "#matriks uk. 8x8\n",
    "huruf_B=[[0, 1, 1, 1, 1, 1, 1, 0],\n",
    "        [0, 1, 0, 0, 0, 0, 1, 0],\n",
    "        [0, 1, 0, 0, 0, 0, 1, 0],\n",
    "        [0, 1, 1, 1, 1, 1, 1, 1],\n",
    "        [0, 1, 1, 0, 0, 0, 0, 1],\n",
    "        [0, 1, 1, 0, 0, 0, 0, 1],\n",
    "        [0, 1, 1, 1, 1, 1, 1, 1],\n",
    "        [0, 0, 0, 0, 0, 0, 0, 0]]\n",
    "\n",
    "for i in range(0,len(huruf_B)):\n",
    "    for j in range(0,len(huruf_B)):\n",
    "        if(huruf_B[i][j]!=0):\n",
    "            print('*',end='')\n",
    "        else:\n",
    "            print (' ',end='')\n",
    "    print('\\n',end='')"
   ]
  },
  {
   "cell_type": "markdown",
   "id": "9f293e1e",
   "metadata": {},
   "source": [
    "#### Array dinamis dimensi tiga"
   ]
  },
  {
   "cell_type": "code",
   "execution_count": 9,
   "id": "d18477b2",
   "metadata": {},
   "outputs": [
    {
     "name": "stdout",
     "output_type": "stream",
     "text": [
      "Masukkan row pertama\n",
      "Masukkan banyak subrow tiap row\n",
      "2\n",
      "Masukkan elemen\n",
      "1 1 1 \n",
      "Masukkan elemen\n",
      "2 2 2 \n",
      "[[1, 1, 1], [2, 2, 2]]\n",
      "Ingin input row selanjutnya? (y/t):\n",
      "y\n",
      "masukkan elemen\n",
      "4 4 4\n",
      "masukkan elemen\n",
      "5 5 5\n",
      "Ingin input row selanjutnya? (y/t):\n",
      "t\n",
      "selesai\n",
      "\n",
      "hasil array berdimensi-3\n",
      "[[[1, 1, 1], [2, 2, 2]], [[4, 4, 4], [5, 5, 5]]]\n"
     ]
    }
   ],
   "source": [
    "print('Masukkan row pertama')\n",
    "print('Masukkan banyak subrow tiap row')\n",
    "x = int(input())\n",
    "elemen = []\n",
    "for i in range(x):\n",
    "    print('Masukkan elemen')\n",
    "    elemen.append([int(q) for q in input().split()])\n",
    "print(elemen)\n",
    "while True:\n",
    "    print('Ingin input row selanjutnya? (y/t):')\n",
    "    p = str(input())\n",
    "    if p == 'y':\n",
    "        elemen2 =[]\n",
    "        for u in range(a):\n",
    "            print('masukkan elemen')\n",
    "            elemen2.append([int(q) for q in input().split()])\n",
    "    else:\n",
    "        print('selesai')\n",
    "        break\n",
    "print()\n",
    "print('hasil array berdimensi-3')\n",
    "print([elemen,elemen2])"
   ]
  }
 ],
 "metadata": {
  "kernelspec": {
   "display_name": "Python 3 (ipykernel)",
   "language": "python",
   "name": "python3"
  },
  "language_info": {
   "codemirror_mode": {
    "name": "ipython",
    "version": 3
   },
   "file_extension": ".py",
   "mimetype": "text/x-python",
   "name": "python",
   "nbconvert_exporter": "python",
   "pygments_lexer": "ipython3",
   "version": "3.9.12"
  }
 },
 "nbformat": 4,
 "nbformat_minor": 5
}
